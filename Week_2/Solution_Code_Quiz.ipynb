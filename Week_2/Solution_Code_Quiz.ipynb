{
 "cells": [
  {
   "cell_type": "markdown",
   "id": "106a93e1",
   "metadata": {},
   "source": [
    "Write a Python program to print the length of a string input by the user"
   ]
  },
  {
   "cell_type": "code",
   "execution_count": 2,
   "id": "0d0042a5",
   "metadata": {},
   "outputs": [
    {
     "name": "stdout",
     "output_type": "stream",
     "text": [
      "The length of the string you entered is: 6\n"
     ]
    }
   ],
   "source": [
    "user_input=input(\"Please enter a string:\")\n",
    "len_of_string=len(user_input)\n",
    "print(\"The length of the string you entered is:\", len_of_string)\n"
   ]
  },
  {
   "cell_type": "markdown",
   "id": "e649ce84",
   "metadata": {},
   "source": [
    " Write a Python program to concatenate \"Learn\" and \"Python\" and print the result"
   ]
  },
  {
   "cell_type": "code",
   "execution_count": 4,
   "id": "0a5c8fce",
   "metadata": {},
   "outputs": [
    {
     "name": "stdout",
     "output_type": "stream",
     "text": [
      "Learn python\n"
     ]
    }
   ],
   "source": [
    "a=\"Learn\"\n",
    "b=\"python\"\n",
    "print(a+ \" \" + b)"
   ]
  },
  {
   "cell_type": "markdown",
   "id": "206cc128",
   "metadata": {},
   "source": [
    "Write a Python program to print the slice \"Col\" from str = \"ApnaCollege\""
   ]
  },
  {
   "cell_type": "code",
   "execution_count": 6,
   "id": "d02a471e",
   "metadata": {},
   "outputs": [
    {
     "name": "stdout",
     "output_type": "stream",
     "text": [
      "Col\n"
     ]
    }
   ],
   "source": [
    "str = \"ApnaCollege\"\n",
    "a=str[4:7]\n",
    "print(a)"
   ]
  },
  {
   "cell_type": "code",
   "execution_count": 10,
   "id": "aca6139f",
   "metadata": {},
   "outputs": [
    {
     "name": "stdout",
     "output_type": "stream",
     "text": [
      "yth\n"
     ]
    }
   ],
   "source": [
    "a=\"python\" #yth\n",
    "print(a[1:4])"
   ]
  },
  {
   "cell_type": "markdown",
   "id": "c4dbb194",
   "metadata": {},
   "source": [
    " Write a Python program to replace \"bad\" with \"good\" in str = \"This is bad\" and\n",
    " print the result."
   ]
  },
  {
   "cell_type": "code",
   "execution_count": 15,
   "id": "d73cc152",
   "metadata": {},
   "outputs": [
    {
     "name": "stdout",
     "output_type": "stream",
     "text": [
      "This is good\n",
      "I am learning C++\n"
     ]
    }
   ],
   "source": [
    "str = \"This is bad\"\n",
    "a=str.replace(\"bad\",\"good\")\n",
    "print(a)\n",
    "\n",
    "\n",
    "str2=\"I am learning python\"\n",
    "b=str2.replace(\"python\",\"C++\")\n",
    "print(b)"
   ]
  },
  {
   "cell_type": "markdown",
   "id": "8c2306bd",
   "metadata": {},
   "source": [
    "Write a Python program to check if str = \"I am a coder.\" ends with \"coder.\" and\n",
    " print the result."
   ]
  },
  {
   "cell_type": "code",
   "execution_count": 20,
   "id": "5f4a0fa5",
   "metadata": {},
   "outputs": [
    {
     "name": "stdout",
     "output_type": "stream",
     "text": [
      "True\n"
     ]
    }
   ],
   "source": [
    "str = \"I am a coder\"\n",
    "c=str.endswith(\"coder\")\n",
    "print(c)\n"
   ]
  },
  {
   "cell_type": "markdown",
   "id": "42915e3d",
   "metadata": {},
   "source": [
    "Write a Python program to input a number and print \"Positive\" if it is greater than 0,\n",
    " otherwise print \"Non-positive\"."
   ]
  },
  {
   "cell_type": "code",
   "execution_count": 22,
   "id": "587a3ccc",
   "metadata": {},
   "outputs": [
    {
     "name": "stdout",
     "output_type": "stream",
     "text": [
      "The number you entered is NOn-positive\n"
     ]
    }
   ],
   "source": [
    "a=int(input(\"please enter a number:\"))\n",
    "\n",
    "if(a>0):\n",
    "    print(\"The number you entered is positive\")\n",
    "else:\n",
    "    print(\"The number you entered is NOn-positive\")"
   ]
  },
  {
   "cell_type": "markdown",
   "id": "d106d9b9",
   "metadata": {},
   "source": [
    "Write a Python program to input a students marks and print their grade (A: >=90, B:\n",
    " 8089, C: 7079, D: <70)."
   ]
  },
  {
   "cell_type": "code",
   "execution_count": 27,
   "id": "3d8336ab",
   "metadata": {},
   "outputs": [
    {
     "name": "stdout",
     "output_type": "stream",
     "text": [
      "You got D\n"
     ]
    }
   ],
   "source": [
    "a=int(input(\"please enter a number:\"))\n",
    "\n",
    "if(a>=90):\n",
    "    print(\"You got A\")\n",
    "elif(a>=80):\n",
    "    print(\"You got B\")\n",
    "elif(a>=70):\n",
    "    print(\"You got C\")\n",
    "else:\n",
    "    print(\"You got D\")\n",
    "\n"
   ]
  },
  {
   "cell_type": "markdown",
   "id": "e797d796",
   "metadata": {},
   "source": [
    " Write a Python program to input three numbers and print the greatest.\n"
   ]
  },
  {
   "cell_type": "code",
   "execution_count": null,
   "id": "ac7dc2a1",
   "metadata": {},
   "outputs": [],
   "source": []
  },
  {
   "cell_type": "code",
   "execution_count": 30,
   "id": "6c660a6b",
   "metadata": {},
   "outputs": [
    {
     "name": "stdout",
     "output_type": "stream",
     "text": [
      "The largest number is: 27\n"
     ]
    }
   ],
   "source": [
    "a=int(input(\"Enter first number: \"))\n",
    "b=int(input(\"Enter second number: \"))\n",
    "c=int(input(\"Enter third number: \"))\n",
    "\n",
    "if(a>b and a>c):\n",
    "    print(\"The largest number is:\", a)\n",
    "elif(b>a and b>c):\n",
    "    print(\"The largest number is:\", b)\n",
    "else:\n",
    "    print(\"The largest number is:\", c)"
   ]
  },
  {
   "cell_type": "markdown",
   "id": "828dcff8",
   "metadata": {},
   "source": []
  },
  {
   "cell_type": "markdown",
   "id": "6bbd4226",
   "metadata": {},
   "source": [
    "# Tuples in Python"
   ]
  },
  {
   "cell_type": "code",
   "execution_count": 18,
   "id": "e92dd2f4",
   "metadata": {},
   "outputs": [
    {
     "name": "stdout",
     "output_type": "stream",
     "text": [
      "<class 'tuple'>\n",
      "(1, 2, 3, 0)\n",
      "1\n",
      "(1, 2, 3, 0)\n"
     ]
    }
   ],
   "source": [
    "tup=(1,2,3,0)\n",
    "print(type(tup))\n",
    "print(tup)\n",
    "print(tup[0])  #1\n",
    "\n",
    "print(tup[:4])  # (2, 3)\n",
    "\n",
    "# a=[]\n",
    "# print(type(a))"
   ]
  },
  {
   "cell_type": "markdown",
   "id": "2c7bf536",
   "metadata": {},
   "source": [
    "# Tuple Method"
   ]
  },
  {
   "cell_type": "code",
   "execution_count": 24,
   "id": "e71d6e1c",
   "metadata": {},
   "outputs": [
    {
     "name": "stdout",
     "output_type": "stream",
     "text": [
      "1\n"
     ]
    }
   ],
   "source": [
    "tup = (1, 8, 3, 1,9,8)\n",
    "print(tup.index(8))"
   ]
  },
  {
   "cell_type": "code",
   "execution_count": 29,
   "id": "8c3af195",
   "metadata": {},
   "outputs": [
    {
     "name": "stdout",
     "output_type": "stream",
     "text": [
      "1\n"
     ]
    }
   ],
   "source": [
    "tup = (1, 8, 3, 1,9,8,8,0,8,8,2,4,6,8)\n",
    "print(tup.count(2))"
   ]
  },
  {
   "cell_type": "markdown",
   "id": "6e4d6be2",
   "metadata": {},
   "source": [
    "WAP to ask the user to enter names of their 3 favorite movies & store them in a list."
   ]
  },
  {
   "cell_type": "code",
   "execution_count": 31,
   "id": "c6d0a774",
   "metadata": {},
   "outputs": [
    {
     "name": "stdout",
     "output_type": "stream",
     "text": [
      "The list of movies is: ['TARZAN', 'ACTION', 'AI']\n"
     ]
    }
   ],
   "source": [
    "list_1=[]\n",
    "a=input(\"Please enter 1st movie name:\")\n",
    "b=input(\"please enter 2nd movie name:\")\n",
    "c=input(\"please enter 3rd movie name:\")\n",
    "list_1.append(a)\n",
    "list_1.append(b)\n",
    "list_1.append(c)\n",
    "print(\"The list of movies is:\", list_1)\n",
    "\n"
   ]
  },
  {
   "cell_type": "markdown",
   "id": "04ac827d",
   "metadata": {},
   "source": [
    "WAP to check if a list contains a palindrome of elements. (Hint: use copy( ) method)\n",
    " [1, 2, 3, 2, 1]\n",
    " [1, “abc”, “abc”, 1"
   ]
  },
  {
   "cell_type": "code",
   "execution_count": null,
   "id": "6fcdcb48",
   "metadata": {},
   "outputs": [
    {
     "name": "stdout",
     "output_type": "stream",
     "text": [
      "['p', 'a', 'c', 'e', 'c', 'a', 'r']\n",
      "The list is not palindrome\n"
     ]
    }
   ],
   "source": [
    "orignal_list = [\"r\", \"a\" , \"c\", \"e\", \"c\", \"a\", \"p\"]\n",
    "copy_list=orignal_list.copy()\n",
    "copy_list.reverse()\n",
    "# print(copy_list)\n",
    "if(orignal_list==copy_list):\n",
    "    print(\"The list is palindrome\")\n",
    "else:\n",
    "    print(\"The list is not palindrome\")\n",
    "\n"
   ]
  }
 ],
 "metadata": {
  "kernelspec": {
   "display_name": "Python 3",
   "language": "python",
   "name": "python3"
  },
  "language_info": {
   "codemirror_mode": {
    "name": "ipython",
    "version": 3
   },
   "file_extension": ".py",
   "mimetype": "text/x-python",
   "name": "python",
   "nbconvert_exporter": "python",
   "pygments_lexer": "ipython3",
   "version": "3.9.13"
  }
 },
 "nbformat": 4,
 "nbformat_minor": 5
}
