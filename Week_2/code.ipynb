{
 "cells": [
  {
   "cell_type": "markdown",
   "id": "726c53c5",
   "metadata": {},
   "source": [
    "Indexing"
   ]
  },
  {
   "cell_type": "code",
   "execution_count": 10,
   "id": "01b67253",
   "metadata": {},
   "outputs": [
    {
     "name": "stdout",
     "output_type": "stream",
     "text": [
      "a\n",
      "4\n",
      "[2, 3, 1000, 5, 5, 3]\n"
     ]
    }
   ],
   "source": [
    "a=\"Python is a programming language\"\n",
    "print(a[10])\n",
    "\n",
    "\n",
    "b=[2,3,4,5,5,3]\n",
    "print(b[2])\n",
    "b[2]=1000\n",
    "print(b)"
   ]
  },
  {
   "cell_type": "markdown",
   "id": "1b072b41",
   "metadata": {},
   "source": [
    "Slicing"
   ]
  },
  {
   "cell_type": "code",
   "execution_count": 19,
   "id": "45716879",
   "metadata": {},
   "outputs": [
    {
     "name": "stdout",
     "output_type": "stream",
     "text": [
      "Pytho\n"
     ]
    }
   ],
   "source": [
    "a=\"Python\"\n",
    "# print(a[0:5])\n",
    "\n",
    "# print(a[0:])\n",
    "\n",
    "print(a[ :5])\n"
   ]
  },
  {
   "cell_type": "markdown",
   "id": "c8114b9d",
   "metadata": {},
   "source": [
    " Negative Index\n"
   ]
  },
  {
   "cell_type": "code",
   "execution_count": 28,
   "id": "2168fe81",
   "metadata": {},
   "outputs": [
    {
     "name": "stdout",
     "output_type": "stream",
     "text": [
      "ython\n"
     ]
    }
   ],
   "source": [
    "a=\"python\"\n",
    "a = \"python\"\n",
    "print(a[-5:])  # Output: ython"
   ]
  },
  {
   "cell_type": "markdown",
   "id": "b2031548",
   "metadata": {},
   "source": [
    ".endsWith"
   ]
  },
  {
   "cell_type": "code",
   "execution_count": 5,
   "id": "366e181f",
   "metadata": {},
   "outputs": [
    {
     "name": "stdout",
     "output_type": "stream",
     "text": [
      "False\n"
     ]
    }
   ],
   "source": [
    "a=\"I am learning python\"\n",
    "b=a.endswith(\"am\")\n",
    "print(b)\n"
   ]
  },
  {
   "cell_type": "markdown",
   "id": "0cb45727",
   "metadata": {},
   "source": [
    ".capitalize( )"
   ]
  },
  {
   "cell_type": "code",
   "execution_count": 8,
   "id": "b85698e8",
   "metadata": {},
   "outputs": [
    {
     "name": "stdout",
     "output_type": "stream",
     "text": [
      "P am a programmer\n"
     ]
    }
   ],
   "source": [
    "c=\"p am a programmer\"\n",
    "print(c.capitalize())\n",
    "\n"
   ]
  },
  {
   "cell_type": "markdown",
   "id": "525d3f48",
   "metadata": {},
   "source": [
    "replace"
   ]
  },
  {
   "cell_type": "code",
   "execution_count": 10,
   "id": "b6cf5651",
   "metadata": {},
   "outputs": [
    {
     "name": "stdout",
     "output_type": "stream",
     "text": [
      "I anm an student of cs annd i anm an progranmmer with an skill\n"
     ]
    }
   ],
   "source": [
    "a=\"I am a student of cs and i am a programmer with a skill\"\n",
    "print(a.replace(\"a\",\"an\"))\n"
   ]
  },
  {
   "cell_type": "markdown",
   "id": "7a317a23",
   "metadata": {},
   "source": [
    "find"
   ]
  },
  {
   "cell_type": "code",
   "execution_count": 19,
   "id": "a0e4fb81",
   "metadata": {},
   "outputs": [
    {
     "name": "stdout",
     "output_type": "stream",
     "text": [
      "50\n"
     ]
    }
   ],
   "source": [
    "a=\"I am a student of cs and i am a programmer with a skill\"\n",
    "print(a.find(\"skill\"))"
   ]
  },
  {
   "cell_type": "markdown",
   "id": "c69e602d",
   "metadata": {},
   "source": [
    "count\\"
   ]
  },
  {
   "cell_type": "code",
   "execution_count": null,
   "id": "db2a609e",
   "metadata": {},
   "outputs": [
    {
     "name": "stdout",
     "output_type": "stream",
     "text": [
      "7\n"
     ]
    }
   ],
   "source": [
    "a=\"I am a student of cs and i am a programmer with a skill\"\n",
    "print(a.count(\"a\"))\n"
   ]
  },
  {
   "cell_type": "markdown",
   "id": "d9549263",
   "metadata": {},
   "source": [
    " WAP to input user’s first name & print its length.\n"
   ]
  },
  {
   "cell_type": "code",
   "execution_count": null,
   "id": "5e7f0445",
   "metadata": {},
   "outputs": [
    {
     "name": "stdout",
     "output_type": "stream",
     "text": [
      "6\n"
     ]
    }
   ],
   "source": [
    "a=input(\"Enter your name\")\n",
    "print(len(a))\n",
    "\n",
    "S A J J A D"
   ]
  },
  {
   "cell_type": "markdown",
   "id": "88d6f29b",
   "metadata": {},
   "source": [
    "WAP to find the occurrence of ‘$’ in a String.\n",
    " Apna Coll"
   ]
  },
  {
   "cell_type": "code",
   "execution_count": 21,
   "id": "4b75c8cc",
   "metadata": {},
   "outputs": [
    {
     "name": "stdout",
     "output_type": "stream",
     "text": [
      "2\n"
     ]
    }
   ],
   "source": [
    "A=\"the price of $ is 50$\"\n",
    "print(A.count(\"$\"))"
   ]
  },
  {
   "cell_type": "markdown",
   "id": "7c356ebe",
   "metadata": {},
   "source": [
    "# Conditional Statement"
   ]
  },
  {
   "cell_type": "code",
   "execution_count": 27,
   "id": "920edd2f",
   "metadata": {},
   "outputs": [
    {
     "name": "stdout",
     "output_type": "stream",
     "text": [
      "You are eligible for CNIC\n"
     ]
    }
   ],
   "source": [
    "age=int(input(\"Enter your age: \"))\n",
    "\n",
    "if(age>=18):\n",
    "    print(\"You are eligible for CNIC\")\n",
    "elif(age<18):\n",
    "    print(\"You are not eligible for CNIC\")\n",
    "\n"
   ]
  },
  {
   "cell_type": "code",
   "execution_count": 36,
   "id": "b3221447",
   "metadata": {},
   "outputs": [
    {
     "name": "stdout",
     "output_type": "stream",
     "text": [
      "Not appeard\n"
     ]
    }
   ],
   "source": [
    "marks=int(input(\"Enter your marks: \"))\n",
    "\n",
    "if(marks>=48):\n",
    "    print(\"Grade A\")\n",
    "elif(marks>=39 and marks<48):\n",
    "    print(\"Grade B\")\n",
    "elif(marks>=30 and marks<39):\n",
    "    print(\"Grade C\")\n",
    "elif(marks>=20 and marks<30):\n",
    "    print(\"Grade D\")\n",
    "elif(marks<20 and marks>=10):\n",
    "    print(\"Grade F\")\n",
    "else:\n",
    "    print(\"Not appeard\")"
   ]
  }
 ],
 "metadata": {
  "kernelspec": {
   "display_name": "Python 3",
   "language": "python",
   "name": "python3"
  },
  "language_info": {
   "codemirror_mode": {
    "name": "ipython",
    "version": 3
   },
   "file_extension": ".py",
   "mimetype": "text/x-python",
   "name": "python",
   "nbconvert_exporter": "python",
   "pygments_lexer": "ipython3",
   "version": "3.9.13"
  }
 },
 "nbformat": 4,
 "nbformat_minor": 5
}
