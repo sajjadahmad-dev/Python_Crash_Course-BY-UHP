{
 "cells": [
  {
   "cell_type": "markdown",
   "id": "726c53c5",
   "metadata": {},
   "source": [
    "Indexing"
   ]
  },
  {
   "cell_type": "code",
   "execution_count": 10,
   "id": "01b67253",
   "metadata": {},
   "outputs": [
    {
     "name": "stdout",
     "output_type": "stream",
     "text": [
      "a\n",
      "4\n",
      "[2, 3, 1000, 5, 5, 3]\n"
     ]
    }
   ],
   "source": [
    "a=\"Python is a programming language\"\n",
    "print(a[10])\n",
    "\n",
    "\n",
    "b=[2,3,4,5,5,3]\n",
    "print(b[2])\n",
    "b[2]=1000\n",
    "print(b)"
   ]
  },
  {
   "cell_type": "markdown",
   "id": "1b072b41",
   "metadata": {},
   "source": [
    "Slicing"
   ]
  },
  {
   "cell_type": "code",
   "execution_count": 19,
   "id": "45716879",
   "metadata": {},
   "outputs": [
    {
     "name": "stdout",
     "output_type": "stream",
     "text": [
      "Pytho\n"
     ]
    }
   ],
   "source": [
    "a=\"Python\"\n",
    "# print(a[0:5])\n",
    "\n",
    "# print(a[0:])\n",
    "\n",
    "print(a[ :5])\n"
   ]
  },
  {
   "cell_type": "markdown",
   "id": "c8114b9d",
   "metadata": {},
   "source": [
    " Negative Index\n"
   ]
  },
  {
   "cell_type": "code",
   "execution_count": 28,
   "id": "2168fe81",
   "metadata": {},
   "outputs": [
    {
     "name": "stdout",
     "output_type": "stream",
     "text": [
      "ython\n"
     ]
    }
   ],
   "source": [
    "a=\"python\"\n",
    "a = \"python\"\n",
    "print(a[-5:])  # Output: ython"
   ]
  },
  {
   "cell_type": "markdown",
   "id": "b2031548",
   "metadata": {},
   "source": [
    ".endsWith"
   ]
  },
  {
   "cell_type": "code",
   "execution_count": 5,
   "id": "366e181f",
   "metadata": {},
   "outputs": [
    {
     "name": "stdout",
     "output_type": "stream",
     "text": [
      "False\n"
     ]
    }
   ],
   "source": [
    "a=\"I am learning python\"\n",
    "b=a.endswith(\"am\")\n",
    "print(b)\n"
   ]
  },
  {
   "cell_type": "markdown",
   "id": "0cb45727",
   "metadata": {},
   "source": [
    ".capitalize( )"
   ]
  },
  {
   "cell_type": "code",
   "execution_count": 8,
   "id": "b85698e8",
   "metadata": {},
   "outputs": [
    {
     "name": "stdout",
     "output_type": "stream",
     "text": [
      "P am a programmer\n"
     ]
    }
   ],
   "source": [
    "c=\"p am a programmer\"\n",
    "print(c.capitalize())\n",
    "\n"
   ]
  },
  {
   "cell_type": "markdown",
   "id": "525d3f48",
   "metadata": {},
   "source": [
    "replace"
   ]
  },
  {
   "cell_type": "code",
   "execution_count": 10,
   "id": "b6cf5651",
   "metadata": {},
   "outputs": [
    {
     "name": "stdout",
     "output_type": "stream",
     "text": [
      "I anm an student of cs annd i anm an progranmmer with an skill\n"
     ]
    }
   ],
   "source": [
    "a=\"I am a student of cs and i am a programmer with a skill\"\n",
    "print(a.replace(\"a\",\"an\"))\n"
   ]
  },
  {
   "cell_type": "markdown",
   "id": "7a317a23",
   "metadata": {},
   "source": [
    "find"
   ]
  },
  {
   "cell_type": "code",
   "execution_count": 19,
   "id": "a0e4fb81",
   "metadata": {},
   "outputs": [
    {
     "name": "stdout",
     "output_type": "stream",
     "text": [
      "50\n"
     ]
    }
   ],
   "source": [
    "a=\"I am a student of cs and i am a programmer with a skill\"\n",
    "print(a.find(\"skill\"))"
   ]
  },
  {
   "cell_type": "markdown",
   "id": "c69e602d",
   "metadata": {},
   "source": [
    "count\\"
   ]
  },
  {
   "cell_type": "code",
   "execution_count": null,
   "id": "db2a609e",
   "metadata": {},
   "outputs": [
    {
     "name": "stdout",
     "output_type": "stream",
     "text": [
      "7\n"
     ]
    }
   ],
   "source": [
    "a=\"I am a student of cs and i am a programmer with a skill\"\n",
    "print(a.count(\"a\"))\n"
   ]
  },
  {
   "cell_type": "markdown",
   "id": "d9549263",
   "metadata": {},
   "source": [
    " WAP to input user’s first name & print its length.\n"
   ]
  },
  {
   "cell_type": "code",
   "execution_count": null,
   "id": "5e7f0445",
   "metadata": {},
   "outputs": [
    {
     "name": "stdout",
     "output_type": "stream",
     "text": [
      "6\n"
     ]
    }
   ],
   "source": [
    "a=input(\"Enter your name\")\n",
    "print(len(a))\n",
    "\n",
    "S A J J A D"
   ]
  },
  {
   "cell_type": "markdown",
   "id": "88d6f29b",
   "metadata": {},
   "source": [
    "WAP to find the occurrence of ‘$’ in a String.\n",
    " Apna Coll"
   ]
  },
  {
   "cell_type": "code",
   "execution_count": 21,
   "id": "4b75c8cc",
   "metadata": {},
   "outputs": [
    {
     "name": "stdout",
     "output_type": "stream",
     "text": [
      "2\n"
     ]
    }
   ],
   "source": [
    "A=\"the price of $ is 50$\"\n",
    "print(A.count(\"$\"))"
   ]
  },
  {
   "cell_type": "markdown",
   "id": "7c356ebe",
   "metadata": {},
   "source": [
    "# Conditional Statement"
   ]
  },
  {
   "cell_type": "code",
   "execution_count": 27,
   "id": "920edd2f",
   "metadata": {},
   "outputs": [
    {
     "name": "stdout",
     "output_type": "stream",
     "text": [
      "You are eligible for CNIC\n"
     ]
    }
   ],
   "source": [
    "age=int(input(\"Enter your age: \"))\n",
    "\n",
    "if(age>=18):\n",
    "    print(\"You are eligible for CNIC\")\n",
    "elif(age<18):\n",
    "    print(\"You are not eligible for CNIC\")\n",
    "\n"
   ]
  },
  {
   "cell_type": "code",
   "execution_count": 36,
   "id": "b3221447",
   "metadata": {},
   "outputs": [
    {
     "name": "stdout",
     "output_type": "stream",
     "text": [
      "Not appeard\n"
     ]
    }
   ],
   "source": [
    "marks=int(input(\"Enter your marks: \"))\n",
    "\n",
    "if(marks>=48):\n",
    "    print(\"Grade A\")\n",
    "elif(marks>=39 and marks<48):\n",
    "    print(\"Grade B\")\n",
    "elif(marks>=30 and marks<39):\n",
    "    print(\"Grade C\")\n",
    "elif(marks>=20 and marks<30):\n",
    "    print(\"Grade D\")\n",
    "elif(marks<20 and marks>=10):\n",
    "    print(\"Grade F\")\n",
    "else:\n",
    "    print(\"Not appeard\")"
   ]
  },
  {
   "cell_type": "code",
   "execution_count": null,
   "id": "cb649f8a",
   "metadata": {},
   "outputs": [
    {
     "name": "stdout",
     "output_type": "stream",
     "text": [
      "C is greater than A and B\n"
     ]
    }
   ],
   "source": []
  },
  {
   "cell_type": "code",
   "execution_count": 2,
   "id": "d7abd22c",
   "metadata": {},
   "outputs": [
    {
     "name": "stdout",
     "output_type": "stream",
     "text": [
      "the sum of two numbers is: 20\n"
     ]
    }
   ],
   "source": [
    "first_number=int(input(\"enter your first number:\"))\n",
    "second_number=int(input(\"enter your second number:\"))\n",
    "sum=first_number+second_number\n",
    "print(\"the sum of two numbers is:\", sum)"
   ]
  },
  {
   "cell_type": "markdown",
   "id": "c6a59917",
   "metadata": {},
   "source": [
    " WAP to check if a number entered by the user is odd or even.\n"
   ]
  },
  {
   "cell_type": "code",
   "execution_count": null,
   "id": "e7ac2623",
   "metadata": {},
   "outputs": [
    {
     "name": "stdout",
     "output_type": "stream",
     "text": [
      "the number is even\n"
     ]
    }
   ],
   "source": [
    "number=int(input(\"enter your number:\"))\n",
    "if(number%2==0):\n",
    "    print(\"the number is even\")\n",
    "else:\n",
    "    print(\"the number is odd\")\n",
    "\n"
   ]
  },
  {
   "cell_type": "markdown",
   "id": "022cd88f",
   "metadata": {},
   "source": [
    " WAP to find the greatest of 3 numbers entered by the user.\n"
   ]
  },
  {
   "cell_type": "code",
   "execution_count": 6,
   "id": "15dcb3ff",
   "metadata": {},
   "outputs": [
    {
     "name": "stdout",
     "output_type": "stream",
     "text": [
      "b is greater than a and c\n"
     ]
    }
   ],
   "source": [
    "a=int(input(\"enter your first number:\"))\n",
    "b=int(input(\"enter your second number:\"))\n",
    "c=int(input(\"enter your second number:\"))\n",
    "\n",
    "if(a>b and a>c):\n",
    "    print(\"a is greater than b and c\")\n",
    "elif(b>a and b>c):\n",
    "    print(\"b is greater than a and c\")\n",
    "else:\n",
    "    print(\"c is greater than a and b\")"
   ]
  },
  {
   "cell_type": "markdown",
   "id": "572ddd5c",
   "metadata": {},
   "source": [
    "WAP to check if a number is a multiple of 7 or not."
   ]
  },
  {
   "cell_type": "code",
   "execution_count": 16,
   "id": "72b1846a",
   "metadata": {},
   "outputs": [
    {
     "name": "stdout",
     "output_type": "stream",
     "text": [
      "the number is not a multiple of 9\n"
     ]
    }
   ],
   "source": [
    "number=int(input(\"enter your  number:\"))\n",
    "if(number % 9 == 0):\n",
    "    print(\"the number is a multiple of 9\")\n",
    "else:\n",
    "    print(\"the number is not a multiple of 9\")\n"
   ]
  },
  {
   "cell_type": "markdown",
   "id": "c20e55df",
   "metadata": {},
   "source": [
    "# Lists in Python"
   ]
  },
  {
   "cell_type": "code",
   "execution_count": null,
   "metadata": {},
   "outputs": [
    {
     "name": "stdout",
     "output_type": "stream",
     "text": [
      "9\n",
      "<class 'list'>\n",
      "['python', 2, 'Ali', 2.3, 1]\n",
      "['Java', 2, 'Ali', 2.3, 1]\n"
     ]
    }
   ],
   "source": [
    "a=[1,2,309,4,5,90,7,87,9]\n",
    "print(len(a))\n",
    "print(type(a))\n",
    "# b=\"python\"\n",
    "# print(type(b))\n",
    "\n",
    "# print(a[5])\n",
    "# print(a[0:5])\n",
    "# print(a[1:5])\n",
    "# print(a[2:])\n",
    "\n",
    "c=[\"python\", 2 , \"sajjad\", 2.3 ,1]\n",
    "c[2]=\"Ali\"\n",
    "print(c)\n",
    "c[0]=\"Java\"\n",
    "print(c)\n",
    "\n",
    "\n",
    "\n"
   ]
  },
  {
   "cell_type": "markdown",
   "id": "e0783977",
   "metadata": {},
   "source": [
    "List Methods\n"
   ]
  },
  {
   "cell_type": "code",
   "execution_count": null,
   "id": "480b594d",
   "metadata": {},
   "outputs": [
    {
     "name": "stdout",
     "output_type": "stream",
     "text": [
      "[1, 2, 309, 4, 5, 90, 7, 87, 9, 200]\n",
      "[1, 2, 309, 4, 5, 90, 7, 87, 9, 200, 300]\n",
      "[1, 2, 308, 309, 4, 5, 90, 7, 87, 9, 200, 300]\n"
     ]
    }
   ],
   "source": [
    "a=[1,2,309,4,5,90,7,87,9]\n",
    "a.append(200)\n",
    "print(a)\n",
    "\n",
    "a.append(300)\n",
    "print(a)\n",
    "\n",
    "a.insert(2,308)\n",
    "print(a)\n",
    "\n",
    "\n"
   ]
  },
  {
   "cell_type": "markdown",
   "id": "e45185ea",
   "metadata": {},
   "source": [
    ".sort"
   ]
  },
  {
   "cell_type": "code",
   "execution_count": null,
   "id": "2766462e",
   "metadata": {},
   "outputs": [
    {
     "name": "stdout",
     "output_type": "stream",
     "text": [
      "[1, 2, 4, 5, 7, 9, 87, 90, 309]\n",
      "[9484, 94, 23, 9, 8, 5, 4, 3]\n"
     ]
    }
   ],
   "source": [
    "a=[1,2,309,4,5,90,7,87,9]\n",
    "a.sort() # Sorts the list in ascending order\n",
    "print(a)\n",
    "\n",
    "b=[9,94,9484,4,3,5,8,23]\n",
    "b.sort(reverse=True) # Sorts the list in descending order\n",
    "print(b)"
   ]
  },
  {
   "cell_type": "markdown",
   "id": "2602a284",
   "metadata": {},
   "source": [
    ".reverse( ) "
   ]
  },
  {
   "cell_type": "code",
   "execution_count": 21,
   "id": "5098fdc7",
   "metadata": {},
   "outputs": [
    {
     "name": "stdout",
     "output_type": "stream",
     "text": [
      "[9567, 8, 7, 6455, 5, 4, 3466, 2, 1]\n"
     ]
    }
   ],
   "source": [
    "c=[1,2,3466,4,5,6455,7,8,9567]\n",
    "c.reverse()       # Reverses the list\n",
    "print(c)"
   ]
  },
  {
   "cell_type": "markdown",
   "id": "09729df2",
   "metadata": {},
   "source": [
    "remove()"
   ]
  },
  {
   "cell_type": "code",
   "execution_count": 24,
   "id": "22a6540d",
   "metadata": {},
   "outputs": [
    {
     "name": "stdout",
     "output_type": "stream",
     "text": [
      "[1, 3, 1, 2]\n"
     ]
    }
   ],
   "source": [
    "list = [2, 1, 3, 1,2]\n",
    "list.remove(2)  # Removes the first occurrence of 1 from the list\n",
    "print(list)"
   ]
  },
  {
   "cell_type": "markdown",
   "id": "ff86fecb",
   "metadata": {},
   "source": [
    "pop()"
   ]
  },
  {
   "cell_type": "code",
   "execution_count": 26,
   "id": "09c81794",
   "metadata": {},
   "outputs": [
    {
     "name": "stdout",
     "output_type": "stream",
     "text": [
      "[2, 1, 3, 2]\n"
     ]
    }
   ],
   "source": [
    "list = [2, 1, 3, 1,2]\n",
    "list.pop(3) # Removes the element at index 2\n",
    "print(list)"
   ]
  }
 ],
 "metadata": {
  "kernelspec": {
   "display_name": "Python 3",
   "language": "python",
   "name": "python3"
  },
  "language_info": {
   "codemirror_mode": {
    "name": "ipython",
    "version": 3
   },
   "file_extension": ".py",
   "mimetype": "text/x-python",
   "name": "python",
   "nbconvert_exporter": "python",
   "pygments_lexer": "ipython3",
   "version": "3.9.13"
  }
 },
 "nbformat": 4,
 "nbformat_minor": 5
}
