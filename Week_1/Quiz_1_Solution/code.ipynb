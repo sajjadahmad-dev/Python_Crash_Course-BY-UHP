{
 "cells": [
  {
   "cell_type": "markdown",
   "id": "78be267b",
   "metadata": {},
   "source": [
    " Write a Python program that converts a string \"12.5\" to a float, adds it to an integer\n",
    " 8, and prints the result\n",
    " "
   ]
  },
  {
   "cell_type": "code",
   "execution_count": 1,
   "id": "e52b86dc",
   "metadata": {},
   "outputs": [
    {
     "name": "stdout",
     "output_type": "stream",
     "text": [
      "20.5\n"
     ]
    }
   ],
   "source": [
    "a=\"12.5\"\n",
    "b=float(a)\n",
    "print(b+8)"
   ]
  },
  {
   "cell_type": "markdown",
   "id": "ea2965cf",
   "metadata": {},
   "source": [
    " Write a Python program that accepts a string input from the user and concatenates it\n",
    " with \"Hello, \" to print a greeting message."
   ]
  },
  {
   "cell_type": "code",
   "execution_count": 3,
   "id": "f750a18b",
   "metadata": {},
   "outputs": [
    {
     "name": "stdout",
     "output_type": "stream",
     "text": [
      "Hello welcome\n"
     ]
    }
   ],
   "source": [
    "a=input(\"Enter your name: \")\n",
    "print(\"Hello\"+ \" \" +a)"
   ]
  },
  {
   "cell_type": "markdown",
   "id": "c4b30243",
   "metadata": {},
   "source": [
    " Write a Python program to input two integers and print their sum."
   ]
  },
  {
   "cell_type": "code",
   "execution_count": 5,
   "id": "4f8d1e0f",
   "metadata": {},
   "outputs": [
    {
     "name": "stdout",
     "output_type": "stream",
     "text": [
      "sum is :  15\n"
     ]
    }
   ],
   "source": [
    "a=int(input(\"First number: \"))\n",
    "b=int(input(\"Second number: \"))\n",
    "# sum=a+b\n",
    "# print(\"Sum is: \" + str(sum))\n",
    "print(\"sum is : \", a+b)"
   ]
  },
  {
   "cell_type": "markdown",
   "id": "ddbc2fc5",
   "metadata": {},
   "source": [
    " Write a Python program to input the side of a square, calculate its area, and print the\n",
    " result with a concatenated string in the format \"Area: <area>\"."
   ]
  },
  {
   "cell_type": "code",
   "execution_count": null,
   "id": "28ddaad7",
   "metadata": {},
   "outputs": [
    {
     "name": "stdout",
     "output_type": "stream",
     "text": [
      "False\n"
     ]
    }
   ],
   "source": []
  },
  {
   "cell_type": "markdown",
   "id": "9427e7ec",
   "metadata": {},
   "source": [
    " Write a Python program to input two integers, a and b, and print True if a is greater\n",
    " than or equal to b, otherwise print False."
   ]
  },
  {
   "cell_type": "code",
   "execution_count": null,
   "id": "515c181d",
   "metadata": {},
   "outputs": [],
   "source": [
    "a=int(input(\"First number: \"))\n",
    "b=int(input(\"Second number: \"))\n",
    "print(a>=b)"
   ]
  },
  {
   "cell_type": "markdown",
   "id": "f86ccd87",
   "metadata": {},
   "source": []
  }
 ],
 "metadata": {
  "kernelspec": {
   "display_name": "Python 3",
   "language": "python",
   "name": "python3"
  },
  "language_info": {
   "codemirror_mode": {
    "name": "ipython",
    "version": 3
   },
   "file_extension": ".py",
   "mimetype": "text/x-python",
   "name": "python",
   "nbconvert_exporter": "python",
   "pygments_lexer": "ipython3",
   "version": "3.9.13"
  }
 },
 "nbformat": 4,
 "nbformat_minor": 5
}
