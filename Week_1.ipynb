{
 "cells": [
  {
   "cell_type": "markdown",
   "id": "d92a37a3",
   "metadata": {},
   "source": [
    "# Variables and Datatypes"
   ]
  },
  {
   "cell_type": "code",
   "execution_count": 1,
   "id": "fe57c1c7",
   "metadata": {},
   "outputs": [
    {
     "name": "stdout",
     "output_type": "stream",
     "text": [
      "My Name is : SAJJAD\n",
      "My age is : 34\n",
      "99.09\n",
      "<class 'str'>\n",
      "<class 'int'>\n",
      "<class 'float'>\n",
      "<class 'bool'>\n",
      "<class 'bool'>\n",
      "<class 'NoneType'>\n"
     ]
    }
   ],
   "source": [
    "Name_Of=\"SAJJAD\"\n",
    "age=34\n",
    "price=99.09\n",
    "a=True\n",
    "b=False\n",
    "c=None\n",
    "print(\"My Name is :\" , Name_Of)\n",
    "print(\"My age is :\", age)\n",
    "print(price)\n",
    "\n",
    "print(type(Name_Of))\n",
    "print(type(age))\n",
    "print(type(price))\n",
    "print(type(a))\n",
    "print(type(b))\n",
    "print(type(c))"
   ]
  },
  {
   "cell_type": "markdown",
   "id": "a88a2ad9",
   "metadata": {},
   "source": [
    "# Print Sum\n"
   ]
  },
  {
   "cell_type": "code",
   "execution_count": 2,
   "id": "9fd61e06",
   "metadata": {},
   "outputs": [
    {
     "name": "stdout",
     "output_type": "stream",
     "text": [
      "9.0\n"
     ]
    }
   ],
   "source": [
    "a=9\n",
    "\"\"\" brother give this value\n",
    "aifhai\n",
    "jaiofhaih\\\n",
    "jaofhioa\n",
    "\"\"\"\n",
    "b=1\n",
    "sum=a/b\n",
    "print(sum)"
   ]
  },
  {
   "cell_type": "markdown",
   "id": "907cfa64",
   "metadata": {},
   "source": [
    "# Comments"
   ]
  },
  {
   "cell_type": "code",
   "execution_count": 3,
   "id": "26929f26",
   "metadata": {},
   "outputs": [
    {
     "data": {
      "text/plain": [
       "' multi\\nline\\ncomment '"
      ]
     },
     "execution_count": 3,
     "metadata": {},
     "output_type": "execute_result"
    }
   ],
   "source": [
    "#single line comment\n",
    "\"\"\" multi\n",
    "line\n",
    "comment \"\"\""
   ]
  },
  {
   "cell_type": "markdown",
   "id": "f78cddaf",
   "metadata": {},
   "source": [
    "# input"
   ]
  },
  {
   "cell_type": "code",
   "execution_count": null,
   "id": "7d936340",
   "metadata": {},
   "outputs": [],
   "source": []
  },
  {
   "cell_type": "code",
   "execution_count": 8,
   "id": "a74d9a4b",
   "metadata": {},
   "outputs": [
    {
     "name": "stdout",
     "output_type": "stream",
     "text": [
      "sajajd\n"
     ]
    }
   ],
   "source": [
    "a=input(\"Enter your name: \")\n",
    "print(a)"
   ]
  },
  {
   "cell_type": "markdown",
   "id": "4273a9eb",
   "metadata": {},
   "source": [
    "#  Arithmetic Operators ( + , - , * , / , % , ** )"
   ]
  },
  {
   "cell_type": "code",
   "execution_count": 7,
   "id": "197432e9",
   "metadata": {},
   "outputs": [
    {
     "name": "stdout",
     "output_type": "stream",
     "text": [
      "7\n",
      "3\n",
      "10\n",
      "2.5\n",
      "1\n",
      "25\n"
     ]
    }
   ],
   "source": [
    "a=5\n",
    "b=2\n",
    "print(a+b)\n",
    "print(a-b)\n",
    "print(a*b)\n",
    "print(a/b)\n",
    "print(a%b) #remainder\n",
    "print(a**b) #power"
   ]
  },
  {
   "cell_type": "markdown",
   "id": "275ddb55",
   "metadata": {},
   "source": [
    "# Relational / Comparison Operators ( == , != , > , < , >= , <= )"
   ]
  },
  {
   "cell_type": "code",
   "execution_count": 9,
   "id": "e5a67c81",
   "metadata": {},
   "outputs": [
    {
     "name": "stdout",
     "output_type": "stream",
     "text": [
      "False\n",
      "True\n",
      "True\n",
      "False\n",
      "False\n",
      "True\n"
     ]
    }
   ],
   "source": [
    "a=3\n",
    "b=5\n",
    "print(a==b)\n",
    "print(a!=b)\n",
    "print(a<b)\n",
    "print(a>b)\n",
    "print(a>=b)\n",
    "print(a<=b)"
   ]
  },
  {
   "cell_type": "markdown",
   "id": "866c80a9",
   "metadata": {},
   "source": [
    "# Assignment Operators ( = , +=, -= , *= , /= , %= , **=  )"
   ]
  },
  {
   "cell_type": "code",
   "execution_count": 11,
   "id": "5d5c900e",
   "metadata": {},
   "outputs": [
    {
     "name": "stdout",
     "output_type": "stream",
     "text": [
      "10\n"
     ]
    }
   ],
   "source": [
    "#a=20\n",
    "#a-=2\n",
    "#print(a)\n",
    "\n",
    "a=10\n",
    "b*=2\n",
    "print(b)"
   ]
  },
  {
   "cell_type": "markdown",
   "id": "17f8a4d2",
   "metadata": {},
   "source": [
    "#  Logical Operators ( not , and , or )\n"
   ]
  },
  {
   "cell_type": "code",
   "execution_count": 12,
   "id": "0c6f1d87",
   "metadata": {},
   "outputs": [
    {
     "name": "stdout",
     "output_type": "stream",
     "text": [
      "False\n"
     ]
    }
   ],
   "source": [
    "a=10\n",
    "b=10\n",
    "print(not a==b)\n"
   ]
  },
  {
   "cell_type": "markdown",
   "id": "f90b4283",
   "metadata": {},
   "source": [
    " Write a Program to input 2 numbers & print their sum.\n"
   ]
  },
  {
   "cell_type": "code",
   "execution_count": 3,
   "id": "5701e0bf",
   "metadata": {},
   "outputs": [
    {
     "name": "stdout",
     "output_type": "stream",
     "text": [
      "this is the sum of your numbers  20\n"
     ]
    }
   ],
   "source": [
    "First=int(input(\"Enter your first number: \"))\n",
    "second=int(input(\"Enter your second number: \"))\n",
    "sum=First+second\n",
    "print(\"this is the sum of your numbers \", sum)\n"
   ]
  },
  {
   "cell_type": "markdown",
   "id": "66f8a325",
   "metadata": {},
   "source": [
    " WAP to input side of a square & print its area.\n"
   ]
  },
  {
   "cell_type": "code",
   "execution_count": null,
   "id": "71013fea",
   "metadata": {},
   "outputs": [
    {
     "name": "stdout",
     "output_type": "stream",
     "text": [
      "This is the area of your square:  100.0\n"
     ]
    }
   ],
   "source": [
    "First=float(input(\"Enter your lenght of one side of square: \"))\n",
    "Area=First**2\n",
    "#Area=First*First\n",
    "print(\"This is the area of your square: \", Area)\n",
    "\n"
   ]
  },
  {
   "cell_type": "markdown",
   "id": "7c877659",
   "metadata": {},
   "source": []
  },
  {
   "cell_type": "markdown",
   "id": "dc2dc332",
   "metadata": {},
   "source": [
    " WAP to input 2 floating point numbers & print their average.\n"
   ]
  },
  {
   "cell_type": "code",
   "execution_count": 7,
   "id": "6cb9dacd",
   "metadata": {},
   "outputs": [
    {
     "name": "stdout",
     "output_type": "stream",
     "text": [
      "this is your average of two numbers:  2.0\n"
     ]
    }
   ],
   "source": [
    "First=float(input(\"Enter your first floating number: \"))\n",
    "second=float(input(\"Enter your second floating number: \"))\n",
    "average=(First+second)/2\n",
    "print(\"this is your average of two numbers: \", average)\n",
    "\n",
    "             "
   ]
  },
  {
   "cell_type": "markdown",
   "id": "84dc7d12",
   "metadata": {},
   "source": []
  }
 ],
 "metadata": {
  "kernelspec": {
   "display_name": "Python 3",
   "language": "python",
   "name": "python3"
  },
  "language_info": {
   "codemirror_mode": {
    "name": "ipython",
    "version": 3
   },
   "file_extension": ".py",
   "mimetype": "text/x-python",
   "name": "python",
   "nbconvert_exporter": "python",
   "pygments_lexer": "ipython3",
   "version": "3.9.13"
  }
 },
 "nbformat": 4,
 "nbformat_minor": 5
}
