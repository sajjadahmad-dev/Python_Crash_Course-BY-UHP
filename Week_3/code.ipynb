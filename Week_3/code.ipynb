{
 "cells": [
  {
   "cell_type": "markdown",
   "id": "448c1e5a",
   "metadata": {},
   "source": [
    " WAP to count the number of students with the “A” grade in the following tuple.\n"
   ]
  },
  {
   "cell_type": "code",
   "execution_count": 7,
   "id": "6b9d04e2",
   "metadata": {},
   "outputs": [
    {
     "name": "stdout",
     "output_type": "stream",
     "text": [
      "<class 'tuple'>\n",
      "3\n"
     ]
    }
   ],
   "source": [
    "tup= (\"A\",\"B\",\"C\",\"A\",\"B\",\"C\",\"A\",\"B\",\"C\")\n",
    "print(type(tup))\n",
    "print(tup.count(\"A\"))"
   ]
  },
  {
   "cell_type": "markdown",
   "id": "eb4a240c",
   "metadata": {},
   "source": [
    " Store the above values in a list & sort them from “A” to “D”"
   ]
  },
  {
   "cell_type": "code",
   "execution_count": 18,
   "id": "b4036849",
   "metadata": {},
   "outputs": [
    {
     "name": "stdout",
     "output_type": "stream",
     "text": [
      "['A', 'A', 'A', 'B', 'B', 'B', 'C', 'C', 'C']\n"
     ]
    }
   ],
   "source": [
    "list_1= [\"A\",\"B\",\"C\",\"A\",\"B\",\"C\",\"A\",\"B\",\"C\"]\n",
    "list_1.sort()\n",
    "print(list_1)"
   ]
  },
  {
   "cell_type": "code",
   "execution_count": null,
   "id": "88e24f90",
   "metadata": {},
   "outputs": [],
   "source": []
  }
 ],
 "metadata": {
  "kernelspec": {
   "display_name": "Python 3",
   "language": "python",
   "name": "python3"
  },
  "language_info": {
   "codemirror_mode": {
    "name": "ipython",
    "version": 3
   },
   "file_extension": ".py",
   "mimetype": "text/x-python",
   "name": "python",
   "nbconvert_exporter": "python",
   "pygments_lexer": "ipython3",
   "version": "3.9.13"
  }
 },
 "nbformat": 4,
 "nbformat_minor": 5
}
