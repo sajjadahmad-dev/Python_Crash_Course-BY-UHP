{
 "cells": [
  {
   "cell_type": "markdown",
   "id": "b1edbc98",
   "metadata": {},
   "source": [
    "# Dictionary in Python"
   ]
  },
  {
   "cell_type": "code",
   "execution_count": null,
   "id": "800a8ee8",
   "metadata": {},
   "outputs": [
    {
     "name": "stdout",
     "output_type": "stream",
     "text": [
      "<class 'dict'>\n",
      "{'Name': 'Sajjad', 'Age': 21, 'university': 'UAF', 'Dept.': 'CS', 'Subjects': ['CS', 'Math', 'Physics', 'English'], 'CGPA': 3, 3.5: 'Good'}\n",
      "21\n",
      "UAF\n",
      "CS\n",
      "3\n",
      "Good\n",
      "False\n"
     ]
    }
   ],
   "source": [
    "dic={\n",
    "\n",
    "    \"Name\": \"Sajjad\",\n",
    "    \"Age\": 21,\n",
    "    \"university\":\"UAF\",\n",
    "    \"Dept.\":\"CS\",\n",
    "    \"Subjects\": [\"CS\", \"Math\", \"Physics\", \"English\"],\n",
    "    \"Marks\": {\n",
    "        \"CS\": 85,\n",
    "        \"Math\": 90,\n",
    "        \"Physics\": 80,\n",
    "        \"English\": 75\n",
    "    \n",
    "    }\n",
    "    \"CGPA\" : 3,\n",
    "    3.5: \"Good\",\n",
    "    \n",
    "    }\n",
    "print(type(dic))\n",
    "print(dic)\n",
    "print(dic[\"Age\"])\n",
    "print(dic[\"university\"])\n",
    "print(dic[\"Subjects\"][0])\n",
    "print(dic[\"CGPA\"])\n",
    "print(dic[3.5])\n",
    "print(dict[\"Name\"] == \"Sajjad\")\n"
   ]
  },
  {
   "cell_type": "code",
   "execution_count": 38,
   "id": "e74da14a",
   "metadata": {},
   "outputs": [
    {
     "name": "stdout",
     "output_type": "stream",
     "text": [
      "90\n",
      "dict_values(['Sajjad', 21, 'UAF', 'CS', ['CS', 'Math', 'Physics', 'English'], {'CS': 85, 'Math': 90, 'Physics': 80, 'English': 75}])\n",
      "dict_keys(['Name', 'Age', 'university', 'Dept.', 'Subjects', 'Marks'])\n",
      "[('Name', 'Sajjad'), ('Age', 21), ('university', 'UAF'), ('Dept.', 'CS'), ('Subjects', ['CS', 'Math', 'Physics', 'English']), ('Marks', {'CS': 85, 'Math': 90, 'Physics': 80, 'English': 75})]\n"
     ]
    }
   ],
   "source": [
    "dic={\n",
    "\n",
    "    \"Name\": \"Sajjad\",\n",
    "    \"Age\": 21,\n",
    "    \"university\":\"UAF\",\n",
    "    \"Dept.\":\"CS\",\n",
    "    \"Subjects\": [\"CS\", \"Math\", \"Physics\", \"English\"],\n",
    "    \"Marks\": {\n",
    "        \"CS\": 85,\n",
    "        \"Math\": 90,\n",
    "        \"Physics\": 80,\n",
    "        \"English\": 75\n",
    "    \n",
    "    }\n",
    "    \n",
    "    }\n",
    "print(dic[\"Marks\"][\"Math\"])\n",
    "print(dic.values())\n",
    "print(dic.keys())\n",
    "print(list(dic.items()))  \n"
   ]
  }
 ],
 "metadata": {
  "kernelspec": {
   "display_name": "Python 3",
   "language": "python",
   "name": "python3"
  },
  "language_info": {
   "codemirror_mode": {
    "name": "ipython",
    "version": 3
   },
   "file_extension": ".py",
   "mimetype": "text/x-python",
   "name": "python",
   "nbconvert_exporter": "python",
   "pygments_lexer": "ipython3",
   "version": "3.9.13"
  }
 },
 "nbformat": 4,
 "nbformat_minor": 5
}
