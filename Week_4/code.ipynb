{
 "cells": [
  {
   "cell_type": "markdown",
   "id": "b1edbc98",
   "metadata": {},
   "source": [
    "# Dictionary in Python"
   ]
  },
  {
   "cell_type": "code",
   "execution_count": null,
   "id": "800a8ee8",
   "metadata": {},
   "outputs": [
    {
     "name": "stdout",
     "output_type": "stream",
     "text": [
      "<class 'dict'>\n",
      "{'Name': 'Sajjad', 'Age': 21, 'university': 'UAF', 'Dept.': 'CS', 'Subjects': ['CS', 'Math', 'Physics', 'English'], 'CGPA': 3, 3.5: 'Good'}\n",
      "21\n",
      "UAF\n",
      "CS\n",
      "3\n",
      "Good\n",
      "False\n"
     ]
    }
   ],
   "source": [
    "dic={\n",
    "\n",
    "    \"Name\": \"Sajjad\",\n",
    "    \"Age\": 21,\n",
    "    \"university\":\"UAF\",\n",
    "    \"Dept.\":\"CS\",\n",
    "    \"Subjects\": [\"CS\", \"Math\", \"Physics\", \"English\"],\n",
    "    \"Marks\": {\n",
    "        \"CS\": 85,\n",
    "        \"Math\": 90,\n",
    "        \"Physics\": 80,\n",
    "        \"English\": 75\n",
    "    \n",
    "    }\n",
    "    \"CGPA\" : 3,\n",
    "    3.5: \"Good\",\n",
    "    \n",
    "    }\n",
    "print(type(dic))\n",
    "print(dic)\n",
    "print(dic[\"Age\"])\n",
    "print(dic[\"university\"])\n",
    "print(dic[\"Subjects\"][0])\n",
    "print(dic[\"CGPA\"])\n",
    "print(dic[3.5])\n",
    "print(dict[\"Name\"] == \"Sajjad\")\n"
   ]
  },
  {
   "cell_type": "code",
   "execution_count": 38,
   "id": "e74da14a",
   "metadata": {},
   "outputs": [
    {
     "name": "stdout",
     "output_type": "stream",
     "text": [
      "90\n",
      "dict_values(['Sajjad', 21, 'UAF', 'CS', ['CS', 'Math', 'Physics', 'English'], {'CS': 85, 'Math': 90, 'Physics': 80, 'English': 75}])\n",
      "dict_keys(['Name', 'Age', 'university', 'Dept.', 'Subjects', 'Marks'])\n",
      "[('Name', 'Sajjad'), ('Age', 21), ('university', 'UAF'), ('Dept.', 'CS'), ('Subjects', ['CS', 'Math', 'Physics', 'English']), ('Marks', {'CS': 85, 'Math': 90, 'Physics': 80, 'English': 75})]\n"
     ]
    }
   ],
   "source": [
    "dic={\n",
    "\n",
    "    \"Name\": \"Sajjad\",\n",
    "    \"Age\": 21,\n",
    "    \"university\":\"UAF\",\n",
    "    \"Dept.\":\"CS\",\n",
    "    \"Subjects\": [\"CS\", \"Math\", \"Physics\", \"English\"],\n",
    "    \"Marks\": {\n",
    "        \"CS\": 85,\n",
    "        \"Math\": 90,\n",
    "        \"Physics\": 80,\n",
    "        \"English\": 75\n",
    "    \n",
    "    }\n",
    "    \n",
    "    }\n",
    "print(dic[\"Marks\"][\"Math\"])\n",
    "print(dic.values())\n",
    "print(dic.keys())\n",
    "print(list(dic.items()))  \n"
   ]
  },
  {
   "cell_type": "markdown",
   "id": "ef440478",
   "metadata": {},
   "source": [
    "# Set in Python"
   ]
  },
  {
   "cell_type": "code",
   "execution_count": 23,
   "id": "c183866c",
   "metadata": {},
   "outputs": [
    {
     "name": "stdout",
     "output_type": "stream",
     "text": [
      "{1, 2, 3, 4, 5, 76, 77, 78}\n",
      "{2, 3, 4, 5, 76, 77, 78}\n",
      "{2, 3, 4, 5, 76, 78}\n",
      "set()\n",
      "{2, 3, 4, 5}\n",
      "{3, 4, 5}\n"
     ]
    }
   ],
   "source": [
    "set= {1, 2, 3, 4, 5}\n",
    "# print(type(set))\n",
    "set.add(76)\n",
    "set.add(77)\n",
    "set.add(78)\n",
    "print(set)\n",
    "set.remove(1)\n",
    "print(set)\n",
    "set.remove(77)\n",
    "print(set)\n",
    "set.clear()\n",
    "print(set)\n",
    "set_2 = {1, 2, 3, 4, 5}\n",
    "set_2.pop()\n",
    "print(set_2)\n",
    "set_2.pop()\n",
    "print(set_2)\n",
    "\n",
    "\n",
    "\n"
   ]
  },
  {
   "cell_type": "markdown",
   "id": "e045e6ce",
   "metadata": {},
   "source": [
    "Set Methods\n"
   ]
  },
  {
   "cell_type": "code",
   "execution_count": 25,
   "id": "ab2edc1f",
   "metadata": {},
   "outputs": [
    {
     "name": "stdout",
     "output_type": "stream",
     "text": [
      "{1, 2, 3, 4, 5}\n",
      "{3}\n"
     ]
    }
   ],
   "source": [
    "s_1={1,2,3}\n",
    "s_2={3,4,5}\n",
    "print(s_1.union(s_2))\n",
    "print(s_1.intersection(s_2))\n"
   ]
  },
  {
   "cell_type": "markdown",
   "id": "d65eacdf",
   "metadata": {},
   "source": [
    " Store following word meanings in a python dictionary : \n"
   ]
  },
  {
   "cell_type": "code",
   "execution_count": 27,
   "id": "5536749e",
   "metadata": {},
   "outputs": [
    {
     "name": "stdout",
     "output_type": "stream",
     "text": [
      "{'cat': 'a small animal', 'table': ('a piece of furniture', 'list of facts & figures')}\n"
     ]
    }
   ],
   "source": [
    "dic={\n",
    "\n",
    "    \"cat\" : \"a small animal\",\n",
    "    \"table\" : (\"a piece of furniture\", \"list of facts & figures\")\n",
    "\n",
    "\n",
    "}\n",
    "print(dic)"
   ]
  },
  {
   "cell_type": "markdown",
   "id": "18da3c5f",
   "metadata": {},
   "source": [
    " You are given a list of subjects for students. Assume one classroom is required for 1\n",
    " subject. How many classrooms are needed by all students.\n"
   ]
  },
  {
   "cell_type": "code",
   "execution_count": 29,
   "id": "a2911378",
   "metadata": {},
   "outputs": [
    {
     "name": "stdout",
     "output_type": "stream",
     "text": [
      "{'python', 'java', 'C++', 'javascript', 'C'}\n",
      "5\n"
     ]
    }
   ],
   "source": [
    "set_2= {\"python\" , \"java\" , \"javascript\", \"C++\", \"C\", \"python\", \"java\", \"C++\"}\n",
    "print(set_2)\n",
    "print(len(set_2))"
   ]
  },
  {
   "cell_type": "markdown",
   "id": "7e065f55",
   "metadata": {},
   "source": [
    "WAP to enter marks of 3 subjects from the user and store them in a dictionary. Start with\n",
    " an empty dictionary & add one by one. Use subject name as key & marks as value."
   ]
  },
  {
   "cell_type": "code",
   "execution_count": 30,
   "id": "29bcc2bf",
   "metadata": {},
   "outputs": [
    {
     "name": "stdout",
     "output_type": "stream",
     "text": [
      "{'phy': 50, 'maths': 60, 'english': 70, 'biology': 80}\n"
     ]
    }
   ],
   "source": [
    "marks={}\n",
    "\n",
    "subject=int(input(\"Enter subject name: \"))\n",
    "marks.update({\"phy\" : subject})\n",
    "\n",
    "subject=int(input(\"Enter subject name: \"))\n",
    "marks.update({\"maths\" : subject})\n",
    "\n",
    "subject=int(input(\"Enter subject name: \"))\n",
    "marks.update({\"english\" : subject})\n",
    "\n",
    "\n",
    "subject=int(input(\"Enter subject name: \"))\n",
    "marks.update({\"biology\" : subject})\n",
    "\n",
    "print(marks)\n",
    "\n",
    "\n"
   ]
  },
  {
   "cell_type": "markdown",
   "id": "f82ad4e9",
   "metadata": {},
   "source": [
    "Figure out a way to store 9 & 9.0 as separate values in the set. \n",
    "(You can take help of built-in data types) \n",
    "Apna "
   ]
  },
  {
   "cell_type": "code",
   "execution_count": null,
   "id": "6dd54109",
   "metadata": {},
   "outputs": [],
   "source": []
  },
  {
   "cell_type": "markdown",
   "id": "272ebed6",
   "metadata": {},
   "source": []
  },
  {
   "cell_type": "code",
   "execution_count": 35,
   "id": "7acb5d62",
   "metadata": {},
   "outputs": [
    {
     "name": "stdout",
     "output_type": "stream",
     "text": [
      "{9.0, '9'}\n"
     ]
    }
   ],
   "source": [
    "x={\"9\",9.0}\n",
    "print(x)"
   ]
  }
 ],
 "metadata": {
  "kernelspec": {
   "display_name": "Python 3",
   "language": "python",
   "name": "python3"
  },
  "language_info": {
   "codemirror_mode": {
    "name": "ipython",
    "version": 3
   },
   "file_extension": ".py",
   "mimetype": "text/x-python",
   "name": "python",
   "nbconvert_exporter": "python",
   "pygments_lexer": "ipython3",
   "version": "3.9.13"
  }
 },
 "nbformat": 4,
 "nbformat_minor": 5
}
