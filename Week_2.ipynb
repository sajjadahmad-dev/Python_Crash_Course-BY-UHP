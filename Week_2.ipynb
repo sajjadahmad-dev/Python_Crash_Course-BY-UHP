{
 "cells": [
  {
   "cell_type": "markdown",
   "id": "d972cd0c",
   "metadata": {},
   "source": [
    "#  Basic Operations\n"
   ]
  },
  {
   "cell_type": "markdown",
   "id": "d34af311",
   "metadata": {},
   "source": [
    "concatenation"
   ]
  },
  {
   "cell_type": "code",
   "execution_count": null,
   "id": "6f69d0ba",
   "metadata": {},
   "outputs": [
    {
     "name": "stdout",
     "output_type": "stream",
     "text": [
      "Hello  5\n"
     ]
    }
   ],
   "source": [
    "word1=\"Hello\"\n",
    "word2=\"5\"\n",
    "print(word1+ \"  \" + word2)"
   ]
  },
  {
   "cell_type": "markdown",
   "id": "db5cf438",
   "metadata": {},
   "source": [
    " length of str\n"
   ]
  },
  {
   "cell_type": "code",
   "execution_count": 8,
   "id": "4526fcc2",
   "metadata": {},
   "outputs": [
    {
     "name": "stdout",
     "output_type": "stream",
     "text": [
      "The length of the string is  25\n",
      "The length of the string is  6\n"
     ]
    }
   ],
   "source": [
    "word3= \"Python is a easy language\"\n",
    "word4=\"python\"\n",
    "length1=len(word3)\n",
    "length2=len(word4)\n",
    "print(\"The length of the string is \", length1)\n",
    "print(\"The length of the string is \", length2)"
   ]
  }
 ],
 "metadata": {
  "kernelspec": {
   "display_name": "Python 3",
   "language": "python",
   "name": "python3"
  },
  "language_info": {
   "codemirror_mode": {
    "name": "ipython",
    "version": 3
   },
   "file_extension": ".py",
   "mimetype": "text/x-python",
   "name": "python",
   "nbconvert_exporter": "python",
   "pygments_lexer": "ipython3",
   "version": "3.9.13"
  }
 },
 "nbformat": 4,
 "nbformat_minor": 5
}
